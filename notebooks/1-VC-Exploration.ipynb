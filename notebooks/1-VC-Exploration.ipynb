{
 "cells": [
  {
   "cell_type": "code",
   "execution_count": 38,
   "id": "b5ef8d59-20d4-49fe-92ad-a2ba3e531f9f",
   "metadata": {
    "tags": []
   },
   "outputs": [],
   "source": [
    "import pandas as pd\n",
    "import numpy as np\n",
    "import matplotlib as mp"
   ]
  },
  {
   "cell_type": "code",
   "execution_count": 4,
   "id": "701c7320-d465-402d-9698-4207f5ca3b70",
   "metadata": {
    "tags": []
   },
   "outputs": [
    {
     "name": "stdout",
     "output_type": "stream",
     "text": [
      " Le volume dans le lecteur C n'a pas de nom.\n",
      " Le num‚ro de s‚rie du volume est CEA2-037F\n",
      "\n",
      " R‚pertoire de C:\\Users\\user36505\\Documents\\OFF\\OFF_proj\\notebooks\n",
      "\n",
      "05/10/2023  15:48    <DIR>          .\n",
      "05/10/2023  15:48    <DIR>          ..\n",
      "05/10/2023  15:06                 0 .gitkeep\n",
      "05/10/2023  15:39    <DIR>          .ipynb_checkpoints\n",
      "05/10/2023  15:48            20ÿ076 1-VC-Exploration.ipynb\n",
      "               2 fichier(s)           20ÿ076 octets\n",
      "               3 R‚p(s)  414ÿ426ÿ673ÿ152 octets libres\n"
     ]
    }
   ],
   "source": [
    "!dir"
   ]
  },
  {
   "cell_type": "code",
   "execution_count": 5,
   "id": "bb561bab-e72e-4eea-ba36-af53804cfa57",
   "metadata": {},
   "outputs": [],
   "source": [
    "OFF_FILEPATH = \"../data/raw/list.csv.gz\""
   ]
  },
  {
   "cell_type": "code",
   "execution_count": 7,
   "id": "aa47aeaf-0b56-4900-8530-b5ab1ef8d7b8",
   "metadata": {
    "tags": []
   },
   "outputs": [],
   "source": [
    "df = pd.read_csv(OFF_FILEPATH, sep='\\t', nrows=10_000)"
   ]
  },
  {
   "cell_type": "code",
   "execution_count": 8,
   "id": "b7d406ab-ae65-42eb-908f-97a8bff08cb9",
   "metadata": {},
   "outputs": [
    {
     "data": {
      "text/plain": [
       "(10000, 203)"
      ]
     },
     "execution_count": 8,
     "metadata": {},
     "output_type": "execute_result"
    }
   ],
   "source": [
    "df.shape"
   ]
  },
  {
   "cell_type": "code",
   "execution_count": 28,
   "id": "ccae57f2-d711-4372-a9ff-df31404a9c77",
   "metadata": {
    "tags": []
   },
   "outputs": [],
   "source": [
    "cols = {'product_name' : 'string',\n",
    "'main_category_en' : 'category',\n",
    "'energy-kcal_100g' : 'float32',\n",
    "'nutriscore_grade' : 'category',\n",
    "'nutriscore_score' : 'float32',\n",
    "'ingredients_text' : 'string'}"
   ]
  },
  {
   "cell_type": "code",
   "execution_count": 32,
   "id": "339adc1b-0cd3-4398-8cc3-146640329ac2",
   "metadata": {
    "tags": []
   },
   "outputs": [
    {
     "name": "stdout",
     "output_type": "stream",
     "text": [
      "CPU times: total: 0 ns\n",
      "Wall time: 0 ns\n"
     ]
    },
    {
     "name": "stderr",
     "output_type": "stream",
     "text": [
      "C:\\Users\\user36505\\AppData\\Local\\Temp\\ipykernel_8004\\2108367955.py:5: DtypeWarning: Columns (54) have mixed types. Specify dtype option on import or set low_memory=False.\n",
      "  for chunk_df in pd.read_csv(OFF_FILEPATH,\n"
     ]
    }
   ],
   "source": [
    "%time\n",
    "nrows=4_000_000\n",
    "chunksize=20_000\n",
    "df = pd.DataFrame() \n",
    "for chunk_df in pd.read_csv(OFF_FILEPATH, \n",
    "            sep='\\t', \n",
    "            usecols=cols.keys(),\n",
    "            chunksize=chunksize,\n",
    "            on_bad_lines='skip'\n",
    "                ):\n",
    "    df=pd.concat([df, chunk_df.dropna()])"
   ]
  },
  {
   "cell_type": "code",
   "execution_count": 33,
   "id": "d199456a-d0ba-4d06-9a2f-2771b8c4cb71",
   "metadata": {
    "tags": []
   },
   "outputs": [
    {
     "data": {
      "text/html": [
       "<div>\n",
       "<style scoped>\n",
       "    .dataframe tbody tr th:only-of-type {\n",
       "        vertical-align: middle;\n",
       "    }\n",
       "\n",
       "    .dataframe tbody tr th {\n",
       "        vertical-align: top;\n",
       "    }\n",
       "\n",
       "    .dataframe thead th {\n",
       "        text-align: right;\n",
       "    }\n",
       "</style>\n",
       "<table border=\"1\" class=\"dataframe\">\n",
       "  <thead>\n",
       "    <tr style=\"text-align: right;\">\n",
       "      <th></th>\n",
       "      <th>product_name</th>\n",
       "      <th>ingredients_text</th>\n",
       "      <th>nutriscore_score</th>\n",
       "      <th>nutriscore_grade</th>\n",
       "      <th>main_category_en</th>\n",
       "      <th>energy-kcal_100g</th>\n",
       "    </tr>\n",
       "  </thead>\n",
       "  <tbody>\n",
       "    <tr>\n",
       "      <th>81</th>\n",
       "      <td>BAguette bressan</td>\n",
       "      <td>Bâguette Bressan Pain baguette 46,2%,' farine ...</td>\n",
       "      <td>-4.0</td>\n",
       "      <td>a</td>\n",
       "      <td>Baguettes</td>\n",
       "      <td>160.0</td>\n",
       "    </tr>\n",
       "    <tr>\n",
       "      <th>199</th>\n",
       "      <td>Pâte a tartiner</td>\n",
       "      <td>50% noisettes locales (82), 29% sucre de canne...</td>\n",
       "      <td>19.0</td>\n",
       "      <td>e</td>\n",
       "      <td>Hazelnut spreads</td>\n",
       "      <td>465.0</td>\n",
       "    </tr>\n",
       "    <tr>\n",
       "      <th>309</th>\n",
       "      <td>Cranberries</td>\n",
       "      <td>Cranberries, sugar, sunflower oil.</td>\n",
       "      <td>8.0</td>\n",
       "      <td>c</td>\n",
       "      <td>Cranberries</td>\n",
       "      <td>300.0</td>\n",
       "    </tr>\n",
       "    <tr>\n",
       "      <th>371</th>\n",
       "      <td>Salade Cesar</td>\n",
       "      <td>INGREDIENTS : LAITUE. VINAIGRETTE (HUILE DE CA...</td>\n",
       "      <td>16.0</td>\n",
       "      <td>d</td>\n",
       "      <td>Leaf vegetables</td>\n",
       "      <td>290.0</td>\n",
       "    </tr>\n",
       "    <tr>\n",
       "      <th>420</th>\n",
       "      <td>Chaussons tressés aux pommes</td>\n",
       "      <td>Pâte (farine, margarines d'huile de palme et d...</td>\n",
       "      <td>9.0</td>\n",
       "      <td>c</td>\n",
       "      <td>Apple turnovers</td>\n",
       "      <td>260.0</td>\n",
       "    </tr>\n",
       "    <tr>\n",
       "      <th>...</th>\n",
       "      <td>...</td>\n",
       "      <td>...</td>\n",
       "      <td>...</td>\n",
       "      <td>...</td>\n",
       "      <td>...</td>\n",
       "      <td>...</td>\n",
       "    </tr>\n",
       "    <tr>\n",
       "      <th>2986183</th>\n",
       "      <td>Tofu nature</td>\n",
       "      <td>_Sojabohnen_* 55%, Wasser, Gerinnungsmittel: M...</td>\n",
       "      <td>-3.0</td>\n",
       "      <td>a</td>\n",
       "      <td>Plain tofu</td>\n",
       "      <td>119.0</td>\n",
       "    </tr>\n",
       "    <tr>\n",
       "      <th>2986222</th>\n",
       "      <td>ggg</td>\n",
       "      <td>ffggg</td>\n",
       "      <td>27.0</td>\n",
       "      <td>e</td>\n",
       "      <td>Ffgg</td>\n",
       "      <td>221.0</td>\n",
       "    </tr>\n",
       "    <tr>\n",
       "      <th>2986235</th>\n",
       "      <td>Minis beignets</td>\n",
       "      <td>MATIÈRE GRASSE DU LAIT BABEURRE (34%), FARINE ...</td>\n",
       "      <td>15.0</td>\n",
       "      <td>d</td>\n",
       "      <td>Sweet Fritters</td>\n",
       "      <td>333.0</td>\n",
       "    </tr>\n",
       "    <tr>\n",
       "      <th>2986239</th>\n",
       "      <td>Steak haché 5%</td>\n",
       "      <td>VIANDE HACHEE PUR BOEUF 5% M,G, POURCENTAGE DE...</td>\n",
       "      <td>-2.0</td>\n",
       "      <td>a</td>\n",
       "      <td>Viandes</td>\n",
       "      <td>131.0</td>\n",
       "    </tr>\n",
       "    <tr>\n",
       "      <th>2986255</th>\n",
       "      <td>Boulettes de soja à l’italienne</td>\n",
       "      <td>Pommes de terre 95%, huile de tournesol 5%, de...</td>\n",
       "      <td>-7.0</td>\n",
       "      <td>a</td>\n",
       "      <td>Frozen foods</td>\n",
       "      <td>191.0</td>\n",
       "    </tr>\n",
       "  </tbody>\n",
       "</table>\n",
       "<p>578371 rows × 6 columns</p>\n",
       "</div>"
      ],
      "text/plain": [
       "                            product_name  \\\n",
       "81                      BAguette bressan   \n",
       "199                      Pâte a tartiner   \n",
       "309                          Cranberries   \n",
       "371                         Salade Cesar   \n",
       "420         Chaussons tressés aux pommes   \n",
       "...                                  ...   \n",
       "2986183                      Tofu nature   \n",
       "2986222                              ggg   \n",
       "2986235                   Minis beignets   \n",
       "2986239                   Steak haché 5%   \n",
       "2986255  Boulettes de soja à l’italienne   \n",
       "\n",
       "                                          ingredients_text nutriscore_score  \\\n",
       "81       Bâguette Bressan Pain baguette 46,2%,' farine ...             -4.0   \n",
       "199      50% noisettes locales (82), 29% sucre de canne...             19.0   \n",
       "309                     Cranberries, sugar, sunflower oil.              8.0   \n",
       "371      INGREDIENTS : LAITUE. VINAIGRETTE (HUILE DE CA...             16.0   \n",
       "420      Pâte (farine, margarines d'huile de palme et d...              9.0   \n",
       "...                                                    ...              ...   \n",
       "2986183  _Sojabohnen_* 55%, Wasser, Gerinnungsmittel: M...             -3.0   \n",
       "2986222                                              ffggg             27.0   \n",
       "2986235  MATIÈRE GRASSE DU LAIT BABEURRE (34%), FARINE ...             15.0   \n",
       "2986239  VIANDE HACHEE PUR BOEUF 5% M,G, POURCENTAGE DE...             -2.0   \n",
       "2986255  Pommes de terre 95%, huile de tournesol 5%, de...             -7.0   \n",
       "\n",
       "        nutriscore_grade  main_category_en  energy-kcal_100g  \n",
       "81                     a         Baguettes             160.0  \n",
       "199                    e  Hazelnut spreads             465.0  \n",
       "309                    c       Cranberries             300.0  \n",
       "371                    d   Leaf vegetables             290.0  \n",
       "420                    c   Apple turnovers             260.0  \n",
       "...                  ...               ...               ...  \n",
       "2986183                a        Plain tofu             119.0  \n",
       "2986222                e              Ffgg             221.0  \n",
       "2986235                d    Sweet Fritters             333.0  \n",
       "2986239                a           Viandes             131.0  \n",
       "2986255                a      Frozen foods             191.0  \n",
       "\n",
       "[578371 rows x 6 columns]"
      ]
     },
     "execution_count": 33,
     "metadata": {},
     "output_type": "execute_result"
    }
   ],
   "source": [
    "df"
   ]
  },
  {
   "cell_type": "code",
   "execution_count": 39,
   "id": "f2570f48-e923-40e1-932b-806028a61175",
   "metadata": {
    "tags": []
   },
   "outputs": [
    {
     "data": {
      "image/png": "[encoded data removed]",
      "text/plain": [
       "<Figure size 640x480 with 1 Axes>"
      ]
     },
     "metadata": {},
     "output_type": "display_data"
    }
   ],
   "source": [
    "df.groupby('nutriscore_grade')['energy-kcal_100g'].agg(['mean']).plot(kind='bar');"
   ]
  },
  {
   "cell_type": "code",
   "execution_count": 41,
   "id": "58bd6344-f2ea-49c8-a996-c45810370274",
   "metadata": {
    "tags": []
   },
   "outputs": [
    {
     "ename": "TypeError",
     "evalue": "no numeric data to plot",
     "output_type": "error",
     "traceback": [
      "\u001b[1;31m---------------------------------------------------------------------------\u001b[0m",
      "\u001b[1;31mTypeError\u001b[0m                                 Traceback (most recent call last)",
      "Cell \u001b[1;32mIn[41], line 1\u001b[0m\n\u001b[1;32m----> 1\u001b[0m df[\u001b[38;5;124m'\u001b[39m\u001b[38;5;124mnutriscore_score\u001b[39m\u001b[38;5;124m'\u001b[39m]\u001b[38;5;241m.\u001b[39mplot(kind\u001b[38;5;241m=\u001b[39m\u001b[38;5;124m'\u001b[39m\u001b[38;5;124mbar\u001b[39m\u001b[38;5;124m'\u001b[39m)\n",
      "File \u001b[1;32m~\\AppData\\Local\\anaconda3\\envs\\OFF\\Lib\\site-packages\\pandas\\plotting\\_core.py:975\u001b[0m, in \u001b[0;36mPlotAccessor.__call__\u001b[1;34m(self, *args, **kwargs)\u001b[0m\n\u001b[0;32m    972\u001b[0m             label_name \u001b[38;5;241m=\u001b[39m label_kw \u001b[38;5;129;01mor\u001b[39;00m data\u001b[38;5;241m.\u001b[39mcolumns\n\u001b[0;32m    973\u001b[0m             data\u001b[38;5;241m.\u001b[39mcolumns \u001b[38;5;241m=\u001b[39m label_name\n\u001b[1;32m--> 975\u001b[0m \u001b[38;5;28;01mreturn\u001b[39;00m plot_backend\u001b[38;5;241m.\u001b[39mplot(data, kind\u001b[38;5;241m=\u001b[39mkind, \u001b[38;5;241m*\u001b[39m\u001b[38;5;241m*\u001b[39mkwargs)\n",
      "File \u001b[1;32m~\\AppData\\Local\\anaconda3\\envs\\OFF\\Lib\\site-packages\\pandas\\plotting\\_matplotlib\\__init__.py:71\u001b[0m, in \u001b[0;36mplot\u001b[1;34m(data, kind, **kwargs)\u001b[0m\n\u001b[0;32m     69\u001b[0m         kwargs[\u001b[38;5;124m\"\u001b[39m\u001b[38;5;124max\u001b[39m\u001b[38;5;124m\"\u001b[39m] \u001b[38;5;241m=\u001b[39m \u001b[38;5;28mgetattr\u001b[39m(ax, \u001b[38;5;124m\"\u001b[39m\u001b[38;5;124mleft_ax\u001b[39m\u001b[38;5;124m\"\u001b[39m, ax)\n\u001b[0;32m     70\u001b[0m plot_obj \u001b[38;5;241m=\u001b[39m PLOT_CLASSES[kind](data, \u001b[38;5;241m*\u001b[39m\u001b[38;5;241m*\u001b[39mkwargs)\n\u001b[1;32m---> 71\u001b[0m plot_obj\u001b[38;5;241m.\u001b[39mgenerate()\n\u001b[0;32m     72\u001b[0m plot_obj\u001b[38;5;241m.\u001b[39mdraw()\n\u001b[0;32m     73\u001b[0m \u001b[38;5;28;01mreturn\u001b[39;00m plot_obj\u001b[38;5;241m.\u001b[39mresult\n",
      "File \u001b[1;32m~\\AppData\\Local\\anaconda3\\envs\\OFF\\Lib\\site-packages\\pandas\\plotting\\_matplotlib\\core.py:446\u001b[0m, in \u001b[0;36mMPLPlot.generate\u001b[1;34m(self)\u001b[0m\n\u001b[0;32m    444\u001b[0m \u001b[38;5;28;01mdef\u001b[39;00m \u001b[38;5;21mgenerate\u001b[39m(\u001b[38;5;28mself\u001b[39m) \u001b[38;5;241m-\u001b[39m\u001b[38;5;241m>\u001b[39m \u001b[38;5;28;01mNone\u001b[39;00m:\n\u001b[0;32m    445\u001b[0m     \u001b[38;5;28mself\u001b[39m\u001b[38;5;241m.\u001b[39m_args_adjust()\n\u001b[1;32m--> 446\u001b[0m     \u001b[38;5;28mself\u001b[39m\u001b[38;5;241m.\u001b[39m_compute_plot_data()\n\u001b[0;32m    447\u001b[0m     \u001b[38;5;28mself\u001b[39m\u001b[38;5;241m.\u001b[39m_setup_subplots()\n\u001b[0;32m    448\u001b[0m     \u001b[38;5;28mself\u001b[39m\u001b[38;5;241m.\u001b[39m_make_plot()\n",
      "File \u001b[1;32m~\\AppData\\Local\\anaconda3\\envs\\OFF\\Lib\\site-packages\\pandas\\plotting\\_matplotlib\\core.py:632\u001b[0m, in \u001b[0;36mMPLPlot._compute_plot_data\u001b[1;34m(self)\u001b[0m\n\u001b[0;32m    630\u001b[0m \u001b[38;5;66;03m# no non-numeric frames or series allowed\u001b[39;00m\n\u001b[0;32m    631\u001b[0m \u001b[38;5;28;01mif\u001b[39;00m is_empty:\n\u001b[1;32m--> 632\u001b[0m     \u001b[38;5;28;01mraise\u001b[39;00m \u001b[38;5;167;01mTypeError\u001b[39;00m(\u001b[38;5;124m\"\u001b[39m\u001b[38;5;124mno numeric data to plot\u001b[39m\u001b[38;5;124m\"\u001b[39m)\n\u001b[0;32m    634\u001b[0m \u001b[38;5;28mself\u001b[39m\u001b[38;5;241m.\u001b[39mdata \u001b[38;5;241m=\u001b[39m numeric_data\u001b[38;5;241m.\u001b[39mapply(\u001b[38;5;28mself\u001b[39m\u001b[38;5;241m.\u001b[39m_convert_to_ndarray)\n",
      "\u001b[1;31mTypeError\u001b[0m: no numeric data to plot"
     ]
    }
   ],
   "source": [
    "df['nutriscore_score'].plot(kind='bar')"
   ]
  },
  {
   "cell_type": "code",
   "execution_count": null,
   "id": "1eadd3a0-514a-40e3-88ce-ef44250500bd",
   "metadata": {},
   "outputs": [],
   "source": []
  }
 ],
 "metadata": {
  "kernelspec": {
   "display_name": "Python 3 (ipykernel)",
   "language": "python",
   "name": "python3"
  },
  "language_info": {
   "codemirror_mode": {
    "name": "ipython",
    "version": 3
   },
   "file_extension": ".py",
   "mimetype": "text/x-python",
   "name": "python",
   "nbconvert_exporter": "python",
   "pygments_lexer": "ipython3",
   "version": "3.11.5"
  }
 },
 "nbformat": 4,
 "nbformat_minor": 5
}
